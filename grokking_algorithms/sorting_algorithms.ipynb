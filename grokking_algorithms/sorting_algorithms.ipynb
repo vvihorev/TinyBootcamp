{
 "cells": [
  {
   "cell_type": "code",
   "execution_count": 44,
   "id": "b9dff8bc",
   "metadata": {},
   "outputs": [],
   "source": [
    "import time\n",
    "import random"
   ]
  },
  {
   "cell_type": "code",
   "execution_count": 41,
   "id": "5da74d8a",
   "metadata": {},
   "outputs": [],
   "source": [
    "def insert_sort(A):\n",
    "    A_sorted = []\n",
    "    for n in range(len(A)):\n",
    "        index_min = 0\n",
    "        min = A[index_min]\n",
    "\n",
    "        for i in range(len(A)):\n",
    "            if A[i] < min:\n",
    "                min = A[i]\n",
    "                index_min = i\n",
    "        A.pop(index_min)\n",
    "        A_sorted.append(min)\n",
    "    return A_sorted"
   ]
  },
  {
   "cell_type": "markdown",
   "id": "80ff5112",
   "metadata": {},
   "source": [
    "Готовим числа для сортировки"
   ]
  },
  {
   "cell_type": "code",
   "execution_count": 51,
   "id": "be3396ad",
   "metadata": {
    "scrolled": true
   },
   "outputs": [],
   "source": [
    "my_list_100 = []\n",
    "for i in range(100):\n",
    "    my_list_100.append(random.randint(1, 10000))"
   ]
  },
  {
   "cell_type": "code",
   "execution_count": 53,
   "id": "7e04a489",
   "metadata": {},
   "outputs": [],
   "source": [
    "my_list_1000 = []\n",
    "for i in range(1000):\n",
    "    my_list_1000.append(random.randint(1, 10000))"
   ]
  },
  {
   "cell_type": "code",
   "execution_count": 54,
   "id": "76609b8e",
   "metadata": {},
   "outputs": [],
   "source": [
    "my_list_10000 = []\n",
    "for i in range(10000):\n",
    "    my_list_10000.append(random.randint(1, 10000))"
   ]
  },
  {
   "cell_type": "markdown",
   "id": "70da801c",
   "metadata": {},
   "source": [
    "Замеряем время работы алгоритма"
   ]
  },
  {
   "cell_type": "code",
   "execution_count": 65,
   "id": "11915302",
   "metadata": {},
   "outputs": [
    {
     "name": "stdout",
     "output_type": "stream",
     "text": [
      "Сортировка списка из 100 чисел заняла:  6.890296936035156e-05\n"
     ]
    }
   ],
   "source": [
    "start = time.time()\n",
    "\n",
    "insert_sort(my_list_100)\n",
    "\n",
    "print('Сортировка списка из 100 чисел заняла: ', time.time() - start)"
   ]
  },
  {
   "cell_type": "code",
   "execution_count": 66,
   "id": "a1ffdf61",
   "metadata": {},
   "outputs": [
    {
     "name": "stdout",
     "output_type": "stream",
     "text": [
      "Сортировка списка из 1000 чисел заняла:  0.00014400482177734375\n"
     ]
    }
   ],
   "source": [
    "start = time.time()\n",
    "\n",
    "sorted(my_list_1000)\n",
    "\n",
    "print('Сортировка списка из 1000 чисел заняла: ', time.time() - start)"
   ]
  },
  {
   "cell_type": "code",
   "execution_count": 67,
   "id": "d2044c8e",
   "metadata": {},
   "outputs": [
    {
     "name": "stdout",
     "output_type": "stream",
     "text": [
      "Сортировка списка из 10000 чисел заняла:  0.0006210803985595703\n"
     ]
    }
   ],
   "source": [
    "start = time.time()\n",
    "\n",
    "sorted(my_list_10000)\n",
    "\n",
    "print('Сортировка списка из 10000 чисел заняла: ', time.time() - start)"
   ]
  },
  {
   "cell_type": "code",
   "execution_count": 62,
   "id": "2b754f42",
   "metadata": {},
   "outputs": [
    {
     "data": {
      "text/plain": [
       "10.0"
      ]
     },
     "execution_count": 62,
     "metadata": {},
     "output_type": "execute_result"
    }
   ],
   "source": [
    "1000 / 100"
   ]
  },
  {
   "cell_type": "code",
   "execution_count": 63,
   "id": "3040cdb7",
   "metadata": {},
   "outputs": [
    {
     "data": {
      "text/plain": [
       "28.333333333333336"
      ]
     },
     "execution_count": 63,
     "metadata": {},
     "output_type": "execute_result"
    }
   ],
   "source": [
    "0.085 / 0.003"
   ]
  },
  {
   "cell_type": "code",
   "execution_count": 64,
   "id": "ad9c010d",
   "metadata": {},
   "outputs": [
    {
     "data": {
      "text/plain": [
       "76.125"
      ]
     },
     "execution_count": 64,
     "metadata": {},
     "output_type": "execute_result"
    }
   ],
   "source": [
    "6.09 / 0.08"
   ]
  }
 ],
 "metadata": {
  "kernelspec": {
   "display_name": "Python 3 (ipykernel)",
   "language": "python",
   "name": "python3"
  },
  "language_info": {
   "codemirror_mode": {
    "name": "ipython",
    "version": 3
   },
   "file_extension": ".py",
   "mimetype": "text/x-python",
   "name": "python",
   "nbconvert_exporter": "python",
   "pygments_lexer": "ipython3",
   "version": "3.11.0"
  }
 },
 "nbformat": 4,
 "nbformat_minor": 5
}
